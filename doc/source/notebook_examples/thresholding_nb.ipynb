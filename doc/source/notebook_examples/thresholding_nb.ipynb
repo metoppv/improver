{
 "cells": [
  {
   "cell_type": "markdown",
   "id": "c9d591b0",
   "metadata": {},
   "source": [
    "# Threshold realizations to get probabilities"
   ]
  },
  {
   "cell_type": "markdown",
   "id": "d047764a",
   "metadata": {},
   "source": [
    "This is an example of thresholding a input containing realizations or ensemble members.\n",
    "The thresholding will be applied to each ensemble member/realization independently.\n",
    "The realization dimension can then be collapsed."
   ]
  },
  {
   "cell_type": "code",
   "execution_count": null,
   "id": "dc417613",
   "metadata": {},
   "outputs": [],
   "source": [
    "import numpy as np\n",
    "from improver.synthetic_data.set_up_test_cubes import set_up_variable_cube\n",
    "\n",
    "# Create a 3x3x3 3D numpy array with random values\n",
    "data = np.array([[[1, 2, 3], [4, 5, 6], [7, 8, 9]],\n",
    "                 [[2, 3, 4], [5, 6, 7], [8, 9, 10]],\n",
    "                 [[3, 4, 5], [6, 7, 8], [9, 10, 11]],]\n",
    "                 )\n",
    "\n",
    "realization_cube = set_up_variable_cube(data=data, units=\"m/s\")"
   ]
  },
  {
   "cell_type": "markdown",
   "id": "bf486e7d",
   "metadata": {},
   "source": [
    "Threshold the example cube at 5 m/s."
   ]
  },
  {
   "cell_type": "code",
   "execution_count": null,
   "id": "b6ac219b",
   "metadata": {},
   "outputs": [],
   "source": [
    "from improver.threshold import Threshold\n",
    "\n",
    "thresholded_cube = Threshold(threshold_values=5, comparison_operator=\">\")(realization_cube)"
   ]
  },
  {
   "cell_type": "markdown",
   "id": "4ed5fe46",
   "metadata": {},
   "source": [
    "Plot of the probability of exceeding 5 m/s for each realization.\n",
    "Note that these are binary fields (0s and 1s)."
   ]
  },
  {
   "cell_type": "code",
   "execution_count": null,
   "id": "932d8af6",
   "metadata": {},
   "outputs": [],
   "source": [
    "import matplotlib.pyplot as plt\n",
    "import iris.quickplot as qplt\n",
    "\n",
    "plt.figure(figsize=(10, 5))\n",
    "for i in range(thresholded_cube.coord(\"realization\").points.size):\n",
    "    plt.subplot(1, 3, i + 1)\n",
    "    qplt.pcolormesh(thresholded_cube[i])\n",
    "    plt.title(f\"Realization {i}\")\n",
    "plt.suptitle(\"Thresholded Cube (> 5 m/s)\")\n",
    "plt.tight_layout()\n",
    "plt.show()"
   ]
  },
  {
   "cell_type": "markdown",
   "id": "a6abbd28",
   "metadata": {},
   "source": [
    "Collapse the realization dimension as part of thresholding."
   ]
  },
  {
   "cell_type": "code",
   "execution_count": null,
   "id": "dca9a66f",
   "metadata": {},
   "outputs": [],
   "source": [
    "from improver.threshold import Threshold\n",
    "\n",
    "collapsed_cube = Threshold(threshold_values=5, comparison_operator=\">\", collapse_coord=\"realization\")(realization_cube)"
   ]
  },
  {
   "cell_type": "markdown",
   "id": "cb5aebfb",
   "metadata": {},
   "source": [
    "Plot the probabilities of exceeding 5 m/s after collapsing the realization dimension.\n",
    "Note that these are probabilities are now non-binary. The centre-left grid square\n",
    "has a probability of 1/3 as only one out of the three realizations exceeded 5 m/s.\n",
    "The centre grid square has a probability of 2/3 as two out of the three realizations\n",
    "exceeded 5 m/s."
   ]
  },
  {
   "cell_type": "code",
   "execution_count": null,
   "id": "6342f55b",
   "metadata": {},
   "outputs": [],
   "source": [
    "import matplotlib as mpl\n",
    "import matplotlib.pyplot as plt\n",
    "import iris.quickplot as qplt\n",
    "\n",
    "plt.figure(figsize=(10, 5))\n",
    "pcm = qplt.pcolormesh(collapsed_cube, colorbar=False)\n",
    "cmap = mpl.cm.viridis\n",
    "norm = mpl.colors.BoundaryNorm(np.arange(0, 1.1, 0.2), cmap.N)\n",
    "plt.colorbar(mpl.cm.ScalarMappable(norm=norm, cmap=cmap), ax=plt.gca(), orientation='horizontal', shrink=0.4)\n",
    "plt.title(\"Probability of exceeding 5 m/s\")\n",
    "plt.show()"
   ]
  }
 ],
 "metadata": {
  "kernelspec": {
   "display_name": "environment_improver_unpinned",
   "language": "python",
   "name": "python3"
  },
  "language_info": {
   "name": "python",
   "version": "3.12.12"
  }
 },
 "nbformat": 4,
 "nbformat_minor": 5
}
