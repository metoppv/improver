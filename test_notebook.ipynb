{
 "cells": [
  {
   "cell_type": "code",
   "execution_count": 1,
   "id": "e09c7135",
   "metadata": {},
   "outputs": [],
   "source": [
    "import iris\n",
    "\n",
    "temperature_cube = iris.load_cube('/home/users/eppdev/EPP_data_cache/global/20240215T1200Z/20240215T1200Z-PT0000H00M-temperature_at_screen_level.nc')\n",
    "wind_speed_cube = iris.load_cube('/data/users/eppdev/EPP_data_cache/global/20240215T1200Z/20240215T1200Z-PT0000H00M-wind_speed_at_10m.nc')\n",
    "\n",
    "t_cube = temperature_cube.copy()\n",
    "w_cube = wind_speed_cube.copy()\n"
   ]
  },
  {
   "cell_type": "code",
   "execution_count": 7,
   "id": "473193e1",
   "metadata": {},
   "outputs": [
    {
     "name": "stdout",
     "output_type": "stream",
     "text": [
      "air_temperature / (K)               (latitude: 1920; longitude: 2560)\n",
      "    Dimension coordinates:\n",
      "        latitude                             x                -\n",
      "        longitude                            -                x\n",
      "    Scalar coordinates:\n",
      "        forecast_period             0 seconds\n",
      "        forecast_reference_time     2024-02-15 12:00:00\n",
      "        height                      1.5 m\n",
      "        time                        2024-02-15 12:00:00\n",
      "    Attributes:\n",
      "        Conventions                 'CF-1.7, UKMO-1.0'\n",
      "        history                     '2024-02-15T15:22:57Z: StaGE Decoupler'\n",
      "        institution                 'Met Office'\n",
      "        least_significant_digit     2\n",
      "        mosg__forecast_run_duration 'PT168H'\n",
      "        mosg__grid_domain           'global'\n",
      "        mosg__grid_type             'standard'\n",
      "        mosg__grid_version          '1.7.0'\n",
      "        mosg__model_configuration   'gl_det'\n",
      "        source                      'Met Office Unified Model'\n",
      "        title                       'Global Model Forecast on Global 10 km Standard Grid'\n",
      "        um_version                  '11.9'\n",
      "wind_speed / (m s-1)                (latitude: 1920; longitude: 2560)\n",
      "    Dimension coordinates:\n",
      "        latitude                             x                -\n",
      "        longitude                            -                x\n",
      "    Scalar coordinates:\n",
      "        forecast_period             0 seconds\n",
      "        forecast_reference_time     2024-02-15 12:00:00\n",
      "        height                      10.0 m\n",
      "        time                        2024-02-15 12:00:00\n",
      "    Attributes:\n",
      "        Conventions                 'CF-1.7, UKMO-1.0'\n",
      "        history                     '2024-02-15T15:23:15Z: StaGE Decoupler'\n",
      "        institution                 'Met Office'\n",
      "        least_significant_digit     1\n",
      "        mosg__forecast_run_duration 'PT168H'\n",
      "        mosg__grid_domain           'global'\n",
      "        mosg__grid_type             'standard'\n",
      "        mosg__grid_version          '1.7.0'\n",
      "        mosg__model_configuration   'gl_det'\n",
      "        source                      'Met Office Unified Model'\n",
      "        title                       'Global Model Forecast on Global 10 km Standard Grid'\n",
      "        um_version                  '11.9'\n"
     ]
    }
   ],
   "source": [
    "print(t_cube)\n",
    "print(w_cube)"
   ]
  },
  {
   "cell_type": "code",
   "execution_count": 8,
   "id": "814246e8",
   "metadata": {},
   "outputs": [],
   "source": [
    "from improver.temperature.feels_like_temperature import calculate_wind_chill_temperature"
   ]
  },
  {
   "cell_type": "code",
   "execution_count": 9,
   "id": "a952bb35",
   "metadata": {},
   "outputs": [],
   "source": [
    "wind_chill_cube = calculate_wind_chill_temperature(temperature_cube, wind_speed_cube)"
   ]
  },
  {
   "cell_type": "code",
   "execution_count": 16,
   "id": "606700ab",
   "metadata": {},
   "outputs": [
    {
     "name": "stdout",
     "output_type": "stream",
     "text": [
      "Name: wind_chill_temperature\n",
      "Units: K\n",
      "Attributes: {'title': 'Global Model Forecast on Global 10 km Standard Grid', 'source': 'Met Office Unified Model', 'institution': 'Met Office'}\n",
      "Coordinates  [<DimCoord: latitude / (degrees)  [-89.953, -89.859, ..., 89.859, 89.953]+bounds  shape(1920,)>, <DimCoord: longitude / (degrees)  [-179.93, ...]+bounds  shape(2560,)>, <DimCoord: forecast_period / (seconds)  [0]>, <DimCoord: forecast_reference_time / (seconds since 1970-01-01 00:00:00)  [...]>, <DimCoord: height / (m)  [1.5]>, <DimCoord: time / (seconds since 1970-01-01 00:00:00)  [...]>]\n"
     ]
    }
   ],
   "source": [
    "\n",
    "print(\"Name:\", wind_chill_cube.name())\n",
    "print(\"Units:\", wind_chill_cube.units)\n",
    "print(\"Attributes:\", wind_chill_cube.attributes)\n",
    "print(\"Coordinates \", wind_chill_cube.coords())\n"
   ]
  },
  {
   "cell_type": "code",
   "execution_count": 17,
   "id": "59e70e43",
   "metadata": {},
   "outputs": [
    {
     "name": "stdout",
     "output_type": "stream",
     "text": [
      "Data shape: (1920, 2560)\n",
      "Min: 197.09668\n",
      "Max: 321.42337\n",
      "Mean: 273.23248\n"
     ]
    }
   ],
   "source": [
    "\n",
    "# Print basic stats\n",
    "print(\"Data shape:\", wind_chill_cube.shape)\n",
    "print(\"Min:\", wind_chill_cube.data.min())\n",
    "print(\"Max:\", wind_chill_cube.data.max())\n",
    "print(\"Mean:\", wind_chill_cube.data.mean())\n"
   ]
  },
  {
   "cell_type": "code",
   "execution_count": 18,
   "id": "8ab0b9f4",
   "metadata": {},
   "outputs": [
    {
     "name": "stdout",
     "output_type": "stream",
     "text": [
      "197.09668 321.42337\n"
     ]
    },
    {
     "data": {
      "text/plain": [
       "masked_array(\n",
       "  data=[[217.72269, 217.75992, 217.5331 , 217.60771, 217.5704 ],\n",
       "        [216.8057 , 216.74974, 216.76839, 216.7311 , 216.74974],\n",
       "        [216.1556 , 216.19308, 216.21184, 216.21184, 216.1556 ],\n",
       "        [215.89992, 215.88115, 215.9187 , 215.9938 , 215.9187 ],\n",
       "        [215.71216, 215.67459, 215.63704, 215.55234, 215.55234]],\n",
       "  mask=False,\n",
       "  fill_value=1e+20,\n",
       "  dtype=float32)"
      ]
     },
     "execution_count": 18,
     "metadata": {},
     "output_type": "execute_result"
    }
   ],
   "source": [
    "import numpy as np\n",
    "print(np.min(wind_chill_cube.data), np.max(wind_chill_cube.data))\n",
    "wind_chill_cube.data[:5, :5]  # peek at a small patch if 2D\n"
   ]
  },
  {
   "cell_type": "code",
   "execution_count": 19,
   "id": "cdb59603",
   "metadata": {},
   "outputs": [
    {
     "name": "stdout",
     "output_type": "stream",
     "text": [
      "(1920, 2560)\n",
      "2\n"
     ]
    }
   ],
   "source": [
    "print(wind_chill_cube.shape)\n",
    "# (5, 5)\n",
    "print(wind_chill_cube.ndim)"
   ]
  },
  {
   "cell_type": "code",
   "execution_count": null,
   "id": "d3a51334",
   "metadata": {},
   "outputs": [],
   "source": []
  }
 ],
 "metadata": {
  "kernelspec": {
   "display_name": "Python 3",
   "language": "python",
   "name": "python3"
  },
  "language_info": {
   "codemirror_mode": {
    "name": "ipython",
    "version": 3
   },
   "file_extension": ".py",
   "mimetype": "text/x-python",
   "name": "python",
   "nbconvert_exporter": "python",
   "pygments_lexer": "ipython3",
   "version": "3.12.9"
  }
 },
 "nbformat": 4,
 "nbformat_minor": 5
}
